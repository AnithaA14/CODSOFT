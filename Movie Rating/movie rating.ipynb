{
 "cells": [
  {
   "cell_type": "code",
   "execution_count": 12,
   "id": "94e205f8",
   "metadata": {},
   "outputs": [],
   "source": [
    "import pandas as pd\n",
    "import seaborn as sns\n",
    "import matplotlib.pyplot as plt"
   ]
  },
  {
   "cell_type": "code",
   "execution_count": 9,
   "id": "a0c60235",
   "metadata": {},
   "outputs": [],
   "source": [
    "import pandas as pd\n",
    "\n",
    "data = pd.read_csv('D:\\\\Whole Project Types\\\\intern\\\\Movie Rating\\\\movies.csv', encoding='ISO-8859-1')\n"
   ]
  },
  {
   "cell_type": "code",
   "execution_count": 17,
   "id": "bfd93ab3",
   "metadata": {},
   "outputs": [
    {
     "name": "stdout",
     "output_type": "stream",
     "text": [
      "<class 'pandas.core.frame.DataFrame'>\n",
      "RangeIndex: 15509 entries, 0 to 15508\n",
      "Data columns (total 10 columns):\n",
      " #   Column    Non-Null Count  Dtype  \n",
      "---  ------    --------------  -----  \n",
      " 0   Name      15509 non-null  object \n",
      " 1   Year      14981 non-null  object \n",
      " 2   Duration  7240 non-null   object \n",
      " 3   Genre     13632 non-null  object \n",
      " 4   Rating    7919 non-null   float64\n",
      " 5   Votes     7920 non-null   object \n",
      " 6   Director  14984 non-null  object \n",
      " 7   Actor 1   13892 non-null  object \n",
      " 8   Actor 2   13125 non-null  object \n",
      " 9   Actor 3   12365 non-null  object \n",
      "dtypes: float64(1), object(9)\n",
      "memory usage: 1.2+ MB\n",
      "None\n"
     ]
    }
   ],
   "source": [
    "print(data.info())"
   ]
  },
  {
   "cell_type": "code",
   "execution_count": 7,
   "id": "18313013",
   "metadata": {},
   "outputs": [
    {
     "name": "stdout",
     "output_type": "stream",
     "text": [
      "            Rating\n",
      "count  7919.000000\n",
      "mean      5.841621\n",
      "std       1.381777\n",
      "min       1.100000\n",
      "25%       4.900000\n",
      "50%       6.000000\n",
      "75%       6.800000\n",
      "max      10.000000\n"
     ]
    }
   ],
   "source": [
    "print(data.describe())"
   ]
  },
  {
   "cell_type": "code",
   "execution_count": 8,
   "id": "6c289424",
   "metadata": {},
   "outputs": [
    {
     "name": "stdout",
     "output_type": "stream",
     "text": [
      "Name           0\n",
      "Year         528\n",
      "Duration    8269\n",
      "Genre       1877\n",
      "Rating      7590\n",
      "Votes       7589\n",
      "Director     525\n",
      "Actor 1     1617\n",
      "Actor 2     2384\n",
      "Actor 3     3144\n",
      "dtype: int64\n"
     ]
    }
   ],
   "source": [
    "print(data.isnull().sum())"
   ]
  },
  {
   "cell_type": "code",
   "execution_count": null,
   "id": "020b6811",
   "metadata": {},
   "outputs": [],
   "source": [
    "sns.heatmap(data.corr(), annot=True)\n",
    "sns.boxplot(x='genre', y='rating', data=data)"
   ]
  },
  {
   "cell_type": "code",
   "execution_count": 19,
   "id": "55eade67",
   "metadata": {},
   "outputs": [
    {
     "name": "stdout",
     "output_type": "stream",
     "text": [
      "Index(['Name', 'Year', 'Duration', 'Genre', 'Rating', 'Votes', 'Director',\n",
      "       'Actor 1', 'Actor 2', 'Actor 3'],\n",
      "      dtype='object')\n"
     ]
    }
   ],
   "source": [
    "print(data.columns)\n"
   ]
  },
  {
   "cell_type": "code",
   "execution_count": 20,
   "id": "2c92dea6",
   "metadata": {},
   "outputs": [
    {
     "name": "stdout",
     "output_type": "stream",
     "text": [
      "                                 Name    Year Duration            Genre  \\\n",
      "0                                         NaN      NaN            Drama   \n",
      "1  #Gadhvi (He thought he was Gandhi)  (2019)  109 min            Drama   \n",
      "2                         #Homecoming  (2021)   90 min   Drama, Musical   \n",
      "3                             #Yaaram  (2019)  110 min  Comedy, Romance   \n",
      "4                   ...And Once Again  (2010)  105 min            Drama   \n",
      "\n",
      "   Rating Votes            Director       Actor 1             Actor 2  \\\n",
      "0     NaN   NaN       J.S. Randhawa      Manmauji              Birbal   \n",
      "1     7.0     8       Gaurav Bakshi  Rasika Dugal      Vivek Ghamande   \n",
      "2     NaN   NaN  Soumyajit Majumdar  Sayani Gupta   Plabita Borthakur   \n",
      "3     4.4    35          Ovais Khan       Prateik          Ishita Raj   \n",
      "4     NaN   NaN        Amol Palekar  Rajat Kapoor  Rituparna Sengupta   \n",
      "\n",
      "           Actor 3  \n",
      "0  Rajendra Bhatia  \n",
      "1    Arvind Jangid  \n",
      "2       Roy Angana  \n",
      "3  Siddhant Kapoor  \n",
      "4      Antara Mali  \n"
     ]
    }
   ],
   "source": [
    "print(data.head())"
   ]
  },
  {
   "cell_type": "code",
   "execution_count": 23,
   "id": "c9949ac0",
   "metadata": {},
   "outputs": [],
   "source": [
    "data['Rating'].fillna(data['Rating'].mean(), inplace=True)"
   ]
  },
  {
   "cell_type": "code",
   "execution_count": 7,
   "id": "7ad1c131",
   "metadata": {},
   "outputs": [
    {
     "name": "stdout",
     "output_type": "stream",
     "text": [
      "                                 Name    Year Duration            Genre  \\\n",
      "0                                         NaN      NaN            Drama   \n",
      "1  #Gadhvi (He thought he was Gandhi)  (2019)  109 min            Drama   \n",
      "2                         #Homecoming  (2021)   90 min   Drama, Musical   \n",
      "3                             #Yaaram  (2019)  110 min  Comedy, Romance   \n",
      "4                   ...And Once Again  (2010)  105 min            Drama   \n",
      "\n",
      "   Rating Votes            Director       Actor 1             Actor 2  \\\n",
      "0     NaN   NaN       J.S. Randhawa      Manmauji              Birbal   \n",
      "1     7.0     8       Gaurav Bakshi  Rasika Dugal      Vivek Ghamande   \n",
      "2     NaN   NaN  Soumyajit Majumdar  Sayani Gupta   Plabita Borthakur   \n",
      "3     4.4    35          Ovais Khan       Prateik          Ishita Raj   \n",
      "4     NaN   NaN        Amol Palekar  Rajat Kapoor  Rituparna Sengupta   \n",
      "\n",
      "           Actor 3  \n",
      "0  Rajendra Bhatia  \n",
      "1    Arvind Jangid  \n",
      "2       Roy Angana  \n",
      "3  Siddhant Kapoor  \n",
      "4      Antara Mali  \n",
      "Index(['Name', 'Year', 'Duration', 'Genre', 'Rating', 'Votes', 'Director',\n",
      "       'Actor 1', 'Actor 2', 'Actor 3'],\n",
      "      dtype='object')\n"
     ]
    }
   ],
   "source": [
    "import chardet\n",
    "\n",
    "# Step 1: Detect encoding (optional, for debugging file issues)\n",
    "with open('D:\\\\Whole Project Types\\\\intern\\\\Movie Rating\\\\movies.csv', 'rb') as file:\n",
    "    encoding = chardet.detect(file.read())['encoding']\n",
    "\n",
    "# Step 2: Load the dataset\n",
    "data = pd.read_csv('D:\\\\Whole Project Types\\\\intern\\\\Movie Rating\\\\movies.csv', encoding=encoding)\n",
    "\n",
    "# Step 3: Verify data is loaded\n",
    "print(data.head())\n",
    "\n",
    "# Step 4: Clean column names\n",
    "data.columns = data.columns.str.strip()\n",
    "print(data.columns)\n"
   ]
  },
  {
   "cell_type": "code",
   "execution_count": 11,
   "id": "fb087c92",
   "metadata": {
    "scrolled": true
   },
   "outputs": [
    {
     "name": "stdout",
     "output_type": "stream",
     "text": [
      "Name           0\n",
      "Year         528\n",
      "Duration    8269\n",
      "Genre       1877\n",
      "Rating      7590\n",
      "Votes       7589\n",
      "Director     525\n",
      "Actor 1     1617\n",
      "Actor 2     2384\n",
      "Actor 3     3144\n",
      "dtype: int64\n"
     ]
    }
   ],
   "source": [
    "print(data.isnull().sum())"
   ]
  },
  {
   "cell_type": "code",
   "execution_count": 15,
   "id": "585b0cb0",
   "metadata": {},
   "outputs": [],
   "source": [
    "numeric_data = data.select_dtypes(include=['number'])"
   ]
  },
  {
   "cell_type": "code",
   "execution_count": null,
   "id": "118cee21",
   "metadata": {},
   "outputs": [],
   "source": [
    "data = data.drop(['Genre', 'Title'], axis=1)"
   ]
  },
  {
   "cell_type": "code",
   "execution_count": 17,
   "id": "ec680b51",
   "metadata": {},
   "outputs": [],
   "source": [
    "data = data.fillna(0)  # Fill NaN with 0, or use another method if needed.\n"
   ]
  },
  {
   "cell_type": "code",
   "execution_count": 18,
   "id": "e28b8196",
   "metadata": {},
   "outputs": [
    {
     "name": "stdout",
     "output_type": "stream",
     "text": [
      "<class 'pandas.core.frame.DataFrame'>\n",
      "RangeIndex: 15509 entries, 0 to 15508\n",
      "Data columns (total 10 columns):\n",
      " #   Column    Non-Null Count  Dtype  \n",
      "---  ------    --------------  -----  \n",
      " 0   Name      15509 non-null  object \n",
      " 1   Year      15509 non-null  object \n",
      " 2   Duration  15509 non-null  object \n",
      " 3   Genre     15509 non-null  object \n",
      " 4   Rating    15509 non-null  float64\n",
      " 5   Votes     15509 non-null  object \n",
      " 6   Director  15509 non-null  object \n",
      " 7   Actor 1   15509 non-null  object \n",
      " 8   Actor 2   15509 non-null  object \n",
      " 9   Actor 3   15509 non-null  object \n",
      "dtypes: float64(1), object(9)\n",
      "memory usage: 1.2+ MB\n",
      "None\n"
     ]
    }
   ],
   "source": [
    "print(data.info())"
   ]
  },
  {
   "cell_type": "code",
   "execution_count": 23,
   "id": "89bd8dc9",
   "metadata": {},
   "outputs": [],
   "source": [
    "data.replace(' ', float('nan'), inplace=True)\n"
   ]
  },
  {
   "cell_type": "code",
   "execution_count": 25,
   "id": "f76590de",
   "metadata": {},
   "outputs": [],
   "source": [
    "# Drop rows with missing values\n",
    "data = data.dropna()\n",
    "\n",
    "# Or fill missing values with a placeholder like 0\n",
    "data = data.fillna(0)\n"
   ]
  },
  {
   "cell_type": "code",
   "execution_count": 28,
   "id": "84d81c05",
   "metadata": {},
   "outputs": [],
   "source": [
    "numeric_data = data.select_dtypes(include=['number'])\n"
   ]
  },
  {
   "cell_type": "code",
   "execution_count": 30,
   "id": "77fac3a8",
   "metadata": {},
   "outputs": [
    {
     "data": {
      "image/png": "[encoded data removed]",
      "text/plain": [
       "<Figure size 640x480 with 2 Axes>"
      ]
     },
     "metadata": {},
     "output_type": "display_data"
    }
   ],
   "source": [
    "import seaborn as sns\n",
    "import matplotlib.pyplot as plt\n",
    "\n",
    "sns.heatmap(numeric_data.corr(), annot=True, cmap=\"coolwarm\")\n",
    "plt.show()\n"
   ]
  },
  {
   "cell_type": "code",
   "execution_count": 34,
   "id": "97af9ee4",
   "metadata": {},
   "outputs": [],
   "source": [
    "from sklearn.preprocessing import OneHotEncoder\n",
    "data_encoded = pd.get_dummies(data, columns=['Genre', 'Director'])\n"
   ]
  },
  {
   "cell_type": "code",
   "execution_count": 36,
   "id": "285072d4",
   "metadata": {},
   "outputs": [
    {
     "name": "stdout",
     "output_type": "stream",
     "text": [
      "                                 Name    Year Duration  Rating Votes  \\\n",
      "1  #Gadhvi (He thought he was Gandhi)  (2019)  109 min     7.0     8   \n",
      "2                         #Homecoming  (2021)   90 min     0.0     0   \n",
      "3                             #Yaaram  (2019)  110 min     4.4    35   \n",
      "4                   ...And Once Again  (2010)  105 min     0.0     0   \n",
      "5                ...Aur Pyaar Ho Gaya  (1997)  147 min     4.7   827   \n",
      "\n",
      "        Actor 1                 Actor 2          Actor 3  Genre_0  \\\n",
      "1  Rasika Dugal          Vivek Ghamande    Arvind Jangid    False   \n",
      "2  Sayani Gupta       Plabita Borthakur       Roy Angana    False   \n",
      "3       Prateik              Ishita Raj  Siddhant Kapoor    False   \n",
      "4  Rajat Kapoor      Rituparna Sengupta      Antara Mali    False   \n",
      "5    Bobby Deol  Aishwarya Rai Bachchan    Shammi Kapoor    False   \n",
      "\n",
      "   Genre_Action  ...  Director_Zia Khan Lodhi  Director_Zia Sarhadi  \\\n",
      "1         False  ...                    False                 False   \n",
      "2         False  ...                    False                 False   \n",
      "3         False  ...                    False                 False   \n",
      "4         False  ...                    False                 False   \n",
      "5         False  ...                    False                 False   \n",
      "\n",
      "   Director_Zia-ur-Rasheed  Director_Ziaullah Khan  Director_Zohra  \\\n",
      "1                    False                   False           False   \n",
      "2                    False                   False           False   \n",
      "3                    False                   False           False   \n",
      "4                    False                   False           False   \n",
      "5                    False                   False           False   \n",
      "\n",
      "   Director_Zoya Akhtar  Director_Zubair Khan  Director_Zubeida  \\\n",
      "1                 False                 False             False   \n",
      "2                 False                 False             False   \n",
      "3                 False                 False             False   \n",
      "4                 False                 False             False   \n",
      "5                 False                 False             False   \n",
      "\n",
      "   Director_Zul Vellani  Director_Zunaid Memon  \n",
      "1                 False                  False  \n",
      "2                 False                  False  \n",
      "3                 False                  False  \n",
      "4                 False                  False  \n",
      "5                 False                  False  \n",
      "\n",
      "[5 rows x 6433 columns]\n"
     ]
    }
   ],
   "source": [
    "print(data_encoded.head())\n",
    "\n"
   ]
  },
  {
   "cell_type": "code",
   "execution_count": 40,
   "id": "be46d0e6",
   "metadata": {},
   "outputs": [
    {
     "name": "stdout",
     "output_type": "stream",
     "text": [
      "['(2019)' '(2021)' '(2010)' '(1997)' '(2005)' '(2008)' '(2012)' '(2014)'\n",
      " '(2004)' '(2016)' '(1991)' '(1990)' '(2018)' 0 '(1987)' '(1948)' '(1958)'\n",
      " '(2017)' '(2020)' '(2009)' '(2002)' '(1993)' '(1946)' '(1994)' '(2007)'\n",
      " '(2013)' '(2003)' '(1998)' '(1979)' '(1951)' '(1956)' '(1974)' '(2015)'\n",
      " '(2006)' '(1981)' '(1985)' '(2011)' '(2001)' '(1967)' '(1988)' '(1995)'\n",
      " '(1959)' '(1996)' '(1970)' '(1976)' '(2000)' '(1999)' '(1973)' '(1968)'\n",
      " '(1943)' '(1953)' '(1986)' '(1983)' '(1989)' '(1982)' '(1977)' '(1957)'\n",
      " '(1950)' '(1992)' '(1969)' '(1975)' '(1947)' '(1972)' '(1971)' '(1935)'\n",
      " '(1978)' '(1960)' '(1944)' '(1963)' '(1940)' '(1984)' '(1934)' '(1955)'\n",
      " '(1936)' '(1980)' '(1966)' '(1949)' '(1962)' '(1964)' '(1952)' '(1933)'\n",
      " '(1942)' '(1939)' '(1954)' '(1945)' '(1961)' '(1965)' '(1938)' '(1941)'\n",
      " '(1931)' '(1937)' '(2022)' '(1932)' '(1923)' '(1915)' '(1928)' '(1922)'\n",
      " '(1917)' '(1913)' '(1930)' '(1926)' '(1914)' '(1924)']\n"
     ]
    }
   ],
   "source": [
    "print(data_encoded['Year'].unique())\n"
   ]
  },
  {
   "cell_type": "code",
   "execution_count": 41,
   "id": "97223986",
   "metadata": {},
   "outputs": [
    {
     "name": "stdout",
     "output_type": "stream",
     "text": [
      "object\n"
     ]
    }
   ],
   "source": [
    "print(data_encoded['Year'].dtype)"
   ]
  },
  {
   "cell_type": "code",
   "execution_count": 42,
   "id": "adbe4bf7",
   "metadata": {},
   "outputs": [
    {
     "name": "stdout",
     "output_type": "stream",
     "text": [
      "14981\n"
     ]
    }
   ],
   "source": [
    "data_encoded['Year'] = pd.to_numeric(data_encoded['Year'], errors='coerce')\n",
    "print(data_encoded['Year'].isna().sum())  # Check how many entries became NaN\n"
   ]
  },
  {
   "cell_type": "code",
   "execution_count": 43,
   "id": "42d74c3d",
   "metadata": {},
   "outputs": [],
   "source": [
    "data_encoded['Year'] = data_encoded['Year'].astype(str)  # Convert to strings if needed\n",
    "data_encoded['Year'] = label_encoder.fit_transform(data_encoded['Year'])\n"
   ]
  },
  {
   "cell_type": "code",
   "execution_count": 44,
   "id": "ae687104",
   "metadata": {},
   "outputs": [
    {
     "name": "stdout",
     "output_type": "stream",
     "text": [
      "1        1\n",
      "2        1\n",
      "3        1\n",
      "4        1\n",
      "5        1\n",
      "        ..\n",
      "15504    1\n",
      "15505    1\n",
      "15506    1\n",
      "15507    1\n",
      "15508    1\n",
      "Name: Year, Length: 15508, dtype: int32\n"
     ]
    }
   ],
   "source": [
    "print(data_encoded['Year'])"
   ]
  },
  {
   "cell_type": "code",
   "execution_count": 45,
   "id": "6600e101",
   "metadata": {},
   "outputs": [],
   "source": [
    "data['Rating'].fillna(data['Rating'].mean(), inplace=True)\n"
   ]
  },
  {
   "cell_type": "code",
   "execution_count": 48,
   "id": "5c9a766e",
   "metadata": {},
   "outputs": [
    {
     "name": "stdout",
     "output_type": "stream",
     "text": [
      "['#Gadhvi (He thought he was Gandhi)' '#Homecoming' '#Yaaram' ...\n",
      " 'Zulmi Raj' 'Zulmi Shikari' 'Zulm-O-Sitam']\n"
     ]
    }
   ],
   "source": [
    "print(data_encoded['Name'].unique())"
   ]
  },
  {
   "cell_type": "code",
   "execution_count": 49,
   "id": "3bba5be9",
   "metadata": {},
   "outputs": [
    {
     "name": "stdout",
     "output_type": "stream",
     "text": [
      "object\n"
     ]
    }
   ],
   "source": [
    "print(data_encoded['Name'].dtype)"
   ]
  },
  {
   "cell_type": "code",
   "execution_count": 50,
   "id": "cc15b63d",
   "metadata": {},
   "outputs": [
    {
     "name": "stdout",
     "output_type": "stream",
     "text": [
      "15498\n"
     ]
    }
   ],
   "source": [
    "data_encoded['Name'] = pd.to_numeric(data_encoded['Name'], errors='coerce')\n",
    "print(data_encoded['Name'].isna().sum())  # Check how many entries became NaN\n"
   ]
  },
  {
   "cell_type": "code",
   "execution_count": 52,
   "id": "c2fce1a9",
   "metadata": {},
   "outputs": [
    {
     "name": "stdout",
     "output_type": "stream",
     "text": [
      "Name                     float64\n",
      "Year                       int32\n",
      "Duration                  object\n",
      "Rating                   float64\n",
      "Votes                     object\n",
      "                          ...   \n",
      "Director_Zoya Akhtar        bool\n",
      "Director_Zubair Khan        bool\n",
      "Director_Zubeida            bool\n",
      "Director_Zul Vellani        bool\n",
      "Director_Zunaid Memon       bool\n",
      "Length: 6433, dtype: object\n"
     ]
    }
   ],
   "source": [
    "# Check the data types of each column\n",
    "print(data_encoded.dtypes)\n"
   ]
  },
  {
   "cell_type": "code",
   "execution_count": 59,
   "id": "4c353c10",
   "metadata": {},
   "outputs": [],
   "source": [
    "data_encoded['Duration'] = data_encoded['Duration'].astype(str)\n"
   ]
  },
  {
   "cell_type": "code",
   "execution_count": 60,
   "id": "33e229fc",
   "metadata": {},
   "outputs": [
    {
     "name": "stdout",
     "output_type": "stream",
     "text": [
      "object\n"
     ]
    }
   ],
   "source": [
    "print(data_encoded['Duration'].dtype)\n"
   ]
  },
  {
   "cell_type": "code",
   "execution_count": 61,
   "id": "66d1e81b",
   "metadata": {},
   "outputs": [
    {
     "name": "stdout",
     "output_type": "stream",
     "text": [
      "1    109.0\n",
      "2     90.0\n",
      "3    110.0\n",
      "4    105.0\n",
      "5    147.0\n",
      "Name: Duration, dtype: object\n"
     ]
    }
   ],
   "source": [
    "print(data_encoded['Duration'].head())\n"
   ]
  },
  {
   "cell_type": "code",
   "execution_count": 70,
   "id": "b7b498dc",
   "metadata": {},
   "outputs": [
    {
     "name": "stdout",
     "output_type": "stream",
     "text": [
      "[<class 'str'>]\n"
     ]
    }
   ],
   "source": [
    "print(data_encoded['Duration'].apply(type).unique())\n"
   ]
  },
  {
   "cell_type": "code",
   "execution_count": 80,
   "id": "35d9df26",
   "metadata": {},
   "outputs": [
    {
     "name": "stdout",
     "output_type": "stream",
     "text": [
      "   Duration  Duration_scaled\n",
      "1     109.0         0.735123\n",
      "2      90.0         0.451138\n",
      "3     110.0         0.750069\n",
      "4     105.0         0.675336\n",
      "5     147.0         1.303092\n"
     ]
    }
   ],
   "source": [
    "from sklearn.preprocessing import StandardScaler\n",
    "\n",
    "# Initialize the StandardScaler\n",
    "scaler = StandardScaler()\n",
    "\n",
    "# Standardize the 'Duration' column\n",
    "data_encoded['Duration_scaled'] = scaler.fit_transform(data_encoded[['Duration']])\n",
    "\n",
    "# Check the result\n",
    "print(data_encoded[['Duration', 'Duration_scaled']].head())\n"
   ]
  },
  {
   "cell_type": "code",
   "execution_count": 81,
   "id": "84b967cb",
   "metadata": {},
   "outputs": [
    {
     "data": {
      "image/png": "[encoded data removed]",
      "text/plain": [
       "<Figure size 1000x600 with 1 Axes>"
      ]
     },
     "metadata": {},
     "output_type": "display_data"
    },
    {
     "data": {
      "image/png": "[encoded data removed]",
      "text/plain": [
       "<Figure size 1000x600 with 1 Axes>"
      ]
     },
     "metadata": {},
     "output_type": "display_data"
    }
   ],
   "source": [
    "import matplotlib.pyplot as plt\n",
    "import seaborn as sns\n",
    "\n",
    "# Plot the original 'Duration'\n",
    "plt.figure(figsize=(10, 6))\n",
    "sns.histplot(data_encoded['Duration'], kde=True)\n",
    "plt.title('Distribution of Duration')\n",
    "plt.xlabel('Duration (minutes)')\n",
    "plt.ylabel('Frequency')\n",
    "plt.show()\n",
    "\n",
    "# Plot the scaled 'Duration'\n",
    "plt.figure(figsize=(10, 6))\n",
    "sns.histplot(data_encoded['Duration_scaled'], kde=True)\n",
    "plt.title('Distribution of Scaled Duration')\n",
    "plt.xlabel('Scaled Duration')\n",
    "plt.ylabel('Frequency')\n",
    "plt.show()\n"
   ]
  },
  {
   "cell_type": "code",
   "execution_count": 92,
   "id": "bf951558",
   "metadata": {},
   "outputs": [],
   "source": [
    "# Convert 'Duration' to string type (if it's not already a string)\n",
    "data_encoded['Duration'] = data_encoded['Duration'].astype(str)\n"
   ]
  },
  {
   "cell_type": "code",
   "execution_count": 95,
   "id": "1c0d9025",
   "metadata": {},
   "outputs": [],
   "source": [
    "from sklearn.preprocessing import StandardScaler\n",
    "scaler = StandardScaler()\n",
    "data_scaled = scaler.fit_transform(data_encoded)\n"
   ]
  },
  {
   "cell_type": "code",
   "execution_count": 98,
   "id": "aad2c6f5",
   "metadata": {},
   "outputs": [
    {
     "name": "stdout",
     "output_type": "stream",
     "text": [
      "[0.07301168 0.92698832]\n"
     ]
    }
   ],
   "source": [
    "from sklearn.ensemble import ExtraTreesRegressor\n",
    "\n",
    "model = ExtraTreesRegressor()\n",
    "model.fit(data_encoded, data['Rating'])\n",
    "print(model.feature_importances_)\n",
    "\n"
   ]
  }
 ],
 "metadata": {
  "kernelspec": {
   "display_name": "Python 3 (ipykernel)",
   "language": "python",
   "name": "python3"
  },
  "language_info": {
   "codemirror_mode": {
    "name": "ipython",
    "version": 3
   },
   "file_extension": ".py",
   "mimetype": "text/x-python",
   "name": "python",
   "nbconvert_exporter": "python",
   "pygments_lexer": "ipython3",
   "version": "3.11.5"
  }
 },
 "nbformat": 4,
 "nbformat_minor": 5
}
